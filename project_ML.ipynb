{
  "cells": [
    {
      "cell_type": "markdown",
      "metadata": {},
      "source": [
        "# _Machine Learning Project: \"Classification of EMG Signals\"_\n",
        "## Introduction: EMG Data Analysis\n",
        "This notebook is based on the EMG data analysis - a study conducted by the UC of Irvine in California. It presents an analysis of EMG data using machine learning models. The goal is to classify physical actions based on EMG signals.\n",
        "\n",
        "Electromyography (EMG) measures muscle response or electrical activity in response to a nerve's stimulation of the muscle. The test is used to help detect neuromuscular abnormalities. During the test, one or more small needles (also called electrodes) are inserted through the skin into the muscle.\n",
        "\n",
        "Possible Use cases for this type of analysis can be- medical diagnosis or build a human-robot interface.\n",
        "\n",
        "Dataset: https://archive.ics.uci.edu/ml/datasets/EMG+Physical+Action+Data+Set\n",
        "\n",
        "Derived from the work by:\n",
        "\n",
        "Theo Theodoridis\\\n",
        "School of Computer Science and Electronic Engineering\\\n",
        "University of Essex\n",
        "\n",
        "Prepared by:\n",
        "\n",
        "Bernard Maacaron\\\n",
        "Anna Hauschild\\\n",
        "EMARO - European Master on Advanced Robotics\\\n",
        "University of Genova - Grande Ecole Centrale de Nantes\n",
        "\n"
      ]
    },
    {
      "cell_type": "markdown",
      "metadata": {},
      "source": [
        "## Understanding the Dataset\n",
        "Bio Electrical Signals collected from a group of 4 subjects who were asked to perform specific physical activities. The dataset contains 8 columns, each corresponding to a different electrode location on the body. The dataset is divided into two categories: normal and aggressive activities. The normal activities include standing, sitting, and hugging, while the aggressive activities include kicking, punching, and hammering.\n",
        "\n",
        "- R-Bic: right bicep (C1)\n",
        "- R-Tri: right tricep (C2)\n",
        "- L-Bic: left bicep (C3)\n",
        "- L-Tri: left tricep (C4)\n",
        "- R-Thi: right thigh (C5)\n",
        "- R-Ham: right hamstring (C6)\n",
        "- L-Thi: left thigh (C7)\n",
        "- L-Ham: left hamstring (C8)\n",
        "\n",
        "Each file in the dataset contains overall 8 columns.\n",
        "\n",
        "- Measurment frequency: $10^4\\ \\text{samples per second.}$"
      ]
    },
    {
      "cell_type": "markdown",
      "metadata": {},
      "source": [
        "### Neurobiology and Machine Learning for Activity Prediction\n",
        "\n",
        "In neurobiology, it has been observed that the same neural signals are activated when imagining an activity, such as jumping, as when physically performing the activity. This phenomenon presents a unique opportunity to leverage machine learning (ML) models for predicting physical activities based on neural signals. Such models have potential applications in controlling robotic movements and aiding in various diagnostic and monitoring tasks.\n",
        "\n",
        "For each activity, neural signals are recorded from the onset to the completion of the activity. This results in approximately 10,000 rows of data for a single activity, capturing the dynamic nature of neural activity throughout its performance.\n"
      ]
    },
    {
      "cell_type": "markdown",
      "metadata": {},
      "source": [
        "## Data Loading and Preprocessing\n",
        "The dataset is loaded and preprocessed to prepare it for model training.\\\n",
        "It is available in the form of text files, where each file corresponds to a different physical activity. The data is loaded into a pandas DataFrame and preprocessed to ensure that it is in the correct format for training machine learning models."
      ]
    },
    {
      "cell_type": "code",
      "execution_count": 10,
      "metadata": {},
      "outputs": [],
      "source": [
        "import os\n",
        "import numpy as np\n",
        "import pandas as pd\n",
        "from sklearn.model_selection import train_test_split\n",
        "from sklearn.preprocessing import StandardScaler\n",
        "\n",
        "\n",
        "data = pd.DataFrame()\n",
        "Num_Subjects = 1\n",
        "data_path = os.path.join('emg+physical+action+data+set','EMG Physical Action Data Set')\n",
        "\n",
        "# Extracting the data from the files and storing it in a dataframe\n",
        "for i in range(Num_Subjects):\n",
        "    actions = {}\n",
        "    action_ind = 0\n",
        "    for action_type in ['Aggressive', 'Normal']:\n",
        "        input_path = os.path.join(data_path, f'sub{i+1}', action_type, 'txt')\n",
        "        \n",
        "        for files in os.listdir(input_path):\n",
        "            subject_path =  os.path.join(input_path, files)\n",
        "            df = pd.read_csv(subject_path,\n",
        "                                      sep='\\t',\n",
        "                                      names = [\"ch\" + str(i) for i in range(1, 9)],\n",
        "                                      header=None)\n",
        "            \n",
        "            action_name = files[:-4]  # Extract action name from filename\n",
        "            if action_name not in actions:\n",
        "                actions[action_name] = action_ind  # Assign a new numeric label if action is not in the dictionary\n",
        "                action_ind += 1\n",
        "\n",
        "            df[\"Action\"] = [action_name]*len(df)\n",
        "            data = pd.concat([data, df], ignore_index=True)"
      ]
    },
    {
      "cell_type": "markdown",
      "metadata": {},
      "source": [
        "### Exploratory data analysis"
      ]
    },
    {
      "cell_type": "code",
      "execution_count": 11,
      "metadata": {},
      "outputs": [
        {
          "data": {
            "text/html": [
              "<div>\n",
              "<style scoped>\n",
              "    .dataframe tbody tr th:only-of-type {\n",
              "        vertical-align: middle;\n",
              "    }\n",
              "\n",
              "    .dataframe tbody tr th {\n",
              "        vertical-align: top;\n",
              "    }\n",
              "\n",
              "    .dataframe thead th {\n",
              "        text-align: right;\n",
              "    }\n",
              "</style>\n",
              "<table border=\"1\" class=\"dataframe\">\n",
              "  <thead>\n",
              "    <tr style=\"text-align: right;\">\n",
              "      <th></th>\n",
              "      <th>ch1</th>\n",
              "      <th>ch2</th>\n",
              "      <th>ch3</th>\n",
              "      <th>ch4</th>\n",
              "      <th>ch5</th>\n",
              "      <th>ch6</th>\n",
              "      <th>ch7</th>\n",
              "      <th>ch8</th>\n",
              "      <th>Action</th>\n",
              "    </tr>\n",
              "  </thead>\n",
              "  <tbody>\n",
              "    <tr>\n",
              "      <th>0</th>\n",
              "      <td>-245</td>\n",
              "      <td>266</td>\n",
              "      <td>2615</td>\n",
              "      <td>-29</td>\n",
              "      <td>-4000</td>\n",
              "      <td>-549</td>\n",
              "      <td>-4000</td>\n",
              "      <td>4000</td>\n",
              "      <td>Elbowing</td>\n",
              "    </tr>\n",
              "    <tr>\n",
              "      <th>1</th>\n",
              "      <td>-814</td>\n",
              "      <td>391</td>\n",
              "      <td>-22</td>\n",
              "      <td>-277</td>\n",
              "      <td>-4000</td>\n",
              "      <td>-130</td>\n",
              "      <td>-4000</td>\n",
              "      <td>4000</td>\n",
              "      <td>Elbowing</td>\n",
              "    </tr>\n",
              "    <tr>\n",
              "      <th>2</th>\n",
              "      <td>-445</td>\n",
              "      <td>257</td>\n",
              "      <td>-3628</td>\n",
              "      <td>-428</td>\n",
              "      <td>-4000</td>\n",
              "      <td>97</td>\n",
              "      <td>-4000</td>\n",
              "      <td>4000</td>\n",
              "      <td>Elbowing</td>\n",
              "    </tr>\n",
              "    <tr>\n",
              "      <th>3</th>\n",
              "      <td>-844</td>\n",
              "      <td>201</td>\n",
              "      <td>-4000</td>\n",
              "      <td>-498</td>\n",
              "      <td>-4000</td>\n",
              "      <td>62</td>\n",
              "      <td>-4000</td>\n",
              "      <td>4000</td>\n",
              "      <td>Elbowing</td>\n",
              "    </tr>\n",
              "    <tr>\n",
              "      <th>4</th>\n",
              "      <td>-1996</td>\n",
              "      <td>233</td>\n",
              "      <td>-4000</td>\n",
              "      <td>-552</td>\n",
              "      <td>-4000</td>\n",
              "      <td>109</td>\n",
              "      <td>-4000</td>\n",
              "      <td>4000</td>\n",
              "      <td>Elbowing</td>\n",
              "    </tr>\n",
              "  </tbody>\n",
              "</table>\n",
              "</div>"
            ],
            "text/plain": [
              "    ch1  ch2   ch3  ch4   ch5  ch6   ch7   ch8    Action\n",
              "0  -245  266  2615  -29 -4000 -549 -4000  4000  Elbowing\n",
              "1  -814  391   -22 -277 -4000 -130 -4000  4000  Elbowing\n",
              "2  -445  257 -3628 -428 -4000   97 -4000  4000  Elbowing\n",
              "3  -844  201 -4000 -498 -4000   62 -4000  4000  Elbowing\n",
              "4 -1996  233 -4000 -552 -4000  109 -4000  4000  Elbowing"
            ]
          },
          "metadata": {},
          "output_type": "display_data"
        }
      ],
      "source": [
        "display(data.head())"
      ]
    },
    {
      "cell_type": "code",
      "execution_count": 12,
      "metadata": {},
      "outputs": [
        {
          "name": "stdout",
          "output_type": "stream",
          "text": [
            "<class 'pandas.core.frame.DataFrame'>\n",
            "RangeIndex: 197058 entries, 0 to 197057\n",
            "Data columns (total 9 columns):\n",
            " #   Column  Non-Null Count   Dtype \n",
            "---  ------  --------------   ----- \n",
            " 0   ch1     197058 non-null  int64 \n",
            " 1   ch2     197058 non-null  int64 \n",
            " 2   ch3     197058 non-null  int64 \n",
            " 3   ch4     197058 non-null  int64 \n",
            " 4   ch5     197058 non-null  int64 \n",
            " 5   ch6     197058 non-null  int64 \n",
            " 6   ch7     197058 non-null  int64 \n",
            " 7   ch8     197058 non-null  int64 \n",
            " 8   Action  197058 non-null  object\n",
            "dtypes: int64(8), object(1)\n",
            "memory usage: 13.5+ MB\n"
          ]
        },
        {
          "data": {
            "text/plain": [
              "None"
            ]
          },
          "metadata": {},
          "output_type": "display_data"
        },
        {
          "data": {
            "text/html": [
              "<div>\n",
              "<style scoped>\n",
              "    .dataframe tbody tr th:only-of-type {\n",
              "        vertical-align: middle;\n",
              "    }\n",
              "\n",
              "    .dataframe tbody tr th {\n",
              "        vertical-align: top;\n",
              "    }\n",
              "\n",
              "    .dataframe thead th {\n",
              "        text-align: right;\n",
              "    }\n",
              "</style>\n",
              "<table border=\"1\" class=\"dataframe\">\n",
              "  <thead>\n",
              "    <tr style=\"text-align: right;\">\n",
              "      <th></th>\n",
              "      <th>ch1</th>\n",
              "      <th>ch2</th>\n",
              "      <th>ch3</th>\n",
              "      <th>ch4</th>\n",
              "      <th>ch5</th>\n",
              "      <th>ch6</th>\n",
              "      <th>ch7</th>\n",
              "      <th>ch8</th>\n",
              "    </tr>\n",
              "  </thead>\n",
              "  <tbody>\n",
              "    <tr>\n",
              "      <th>count</th>\n",
              "      <td>197058.000000</td>\n",
              "      <td>197058.000000</td>\n",
              "      <td>197058.000000</td>\n",
              "      <td>197058.000000</td>\n",
              "      <td>197058.000000</td>\n",
              "      <td>197058.000000</td>\n",
              "      <td>197058.000000</td>\n",
              "      <td>197058.000000</td>\n",
              "    </tr>\n",
              "    <tr>\n",
              "      <th>mean</th>\n",
              "      <td>-20.789833</td>\n",
              "      <td>6.355266</td>\n",
              "      <td>-5.971526</td>\n",
              "      <td>-7.287119</td>\n",
              "      <td>8.434177</td>\n",
              "      <td>40.086898</td>\n",
              "      <td>32.720960</td>\n",
              "      <td>5.381725</td>\n",
              "    </tr>\n",
              "    <tr>\n",
              "      <th>std</th>\n",
              "      <td>1012.033723</td>\n",
              "      <td>676.259593</td>\n",
              "      <td>1264.403517</td>\n",
              "      <td>855.951252</td>\n",
              "      <td>2430.808542</td>\n",
              "      <td>1892.478019</td>\n",
              "      <td>2236.220824</td>\n",
              "      <td>1780.551824</td>\n",
              "    </tr>\n",
              "    <tr>\n",
              "      <th>min</th>\n",
              "      <td>-4000.000000</td>\n",
              "      <td>-4000.000000</td>\n",
              "      <td>-4000.000000</td>\n",
              "      <td>-4000.000000</td>\n",
              "      <td>-4000.000000</td>\n",
              "      <td>-4000.000000</td>\n",
              "      <td>-4000.000000</td>\n",
              "      <td>-4000.000000</td>\n",
              "    </tr>\n",
              "    <tr>\n",
              "      <th>25%</th>\n",
              "      <td>-142.000000</td>\n",
              "      <td>-77.000000</td>\n",
              "      <td>-141.000000</td>\n",
              "      <td>-89.000000</td>\n",
              "      <td>-1162.000000</td>\n",
              "      <td>-342.000000</td>\n",
              "      <td>-786.000000</td>\n",
              "      <td>-360.000000</td>\n",
              "    </tr>\n",
              "    <tr>\n",
              "      <th>50%</th>\n",
              "      <td>-11.000000</td>\n",
              "      <td>4.000000</td>\n",
              "      <td>-7.000000</td>\n",
              "      <td>-12.000000</td>\n",
              "      <td>24.000000</td>\n",
              "      <td>28.000000</td>\n",
              "      <td>24.000000</td>\n",
              "      <td>20.000000</td>\n",
              "    </tr>\n",
              "    <tr>\n",
              "      <th>75%</th>\n",
              "      <td>108.000000</td>\n",
              "      <td>93.000000</td>\n",
              "      <td>128.000000</td>\n",
              "      <td>88.000000</td>\n",
              "      <td>1148.000000</td>\n",
              "      <td>439.000000</td>\n",
              "      <td>887.000000</td>\n",
              "      <td>373.000000</td>\n",
              "    </tr>\n",
              "    <tr>\n",
              "      <th>max</th>\n",
              "      <td>4000.000000</td>\n",
              "      <td>4000.000000</td>\n",
              "      <td>4000.000000</td>\n",
              "      <td>4000.000000</td>\n",
              "      <td>4000.000000</td>\n",
              "      <td>4000.000000</td>\n",
              "      <td>4000.000000</td>\n",
              "      <td>4000.000000</td>\n",
              "    </tr>\n",
              "  </tbody>\n",
              "</table>\n",
              "</div>"
            ],
            "text/plain": [
              "                 ch1            ch2            ch3            ch4  \\\n",
              "count  197058.000000  197058.000000  197058.000000  197058.000000   \n",
              "mean      -20.789833       6.355266      -5.971526      -7.287119   \n",
              "std      1012.033723     676.259593    1264.403517     855.951252   \n",
              "min     -4000.000000   -4000.000000   -4000.000000   -4000.000000   \n",
              "25%      -142.000000     -77.000000    -141.000000     -89.000000   \n",
              "50%       -11.000000       4.000000      -7.000000     -12.000000   \n",
              "75%       108.000000      93.000000     128.000000      88.000000   \n",
              "max      4000.000000    4000.000000    4000.000000    4000.000000   \n",
              "\n",
              "                 ch5            ch6            ch7            ch8  \n",
              "count  197058.000000  197058.000000  197058.000000  197058.000000  \n",
              "mean        8.434177      40.086898      32.720960       5.381725  \n",
              "std      2430.808542    1892.478019    2236.220824    1780.551824  \n",
              "min     -4000.000000   -4000.000000   -4000.000000   -4000.000000  \n",
              "25%     -1162.000000    -342.000000    -786.000000    -360.000000  \n",
              "50%        24.000000      28.000000      24.000000      20.000000  \n",
              "75%      1148.000000     439.000000     887.000000     373.000000  \n",
              "max      4000.000000    4000.000000    4000.000000    4000.000000  "
            ]
          },
          "metadata": {},
          "output_type": "display_data"
        }
      ],
      "source": [
        "# Exploratory Data Analysis\n",
        "display(data.info())\n",
        "display(data.describe())\n",
        "\n",
        "# Splitting the data into features and labels\n",
        "X = data.drop('Action', axis=1)\n",
        "y = data['Action']"
      ]
    },
    {
      "cell_type": "code",
      "execution_count": 13,
      "metadata": {},
      "outputs": [
        {
          "data": {
            "text/plain": [
              "array(['Bowing', 'Clapping', 'Elbowing', 'Frontkicking', 'Hamering',\n",
              "       'Handshaking', 'Headering', 'Hugging', 'Jumping', 'Kneeing',\n",
              "       'Pulling', 'Punching', 'Pushing', 'Running', 'Seating',\n",
              "       'Sidekicking', 'Slapping', 'Standing', 'Walking', 'Waving'],\n",
              "      dtype=object)"
            ]
          },
          "metadata": {},
          "output_type": "display_data"
        },
        {
          "data": {
            "text/plain": [
              "{'Elbowing': 0,\n",
              " 'Frontkicking': 1,\n",
              " 'Hamering': 2,\n",
              " 'Headering': 3,\n",
              " 'Kneeing': 4,\n",
              " 'Pulling': 5,\n",
              " 'Punching': 6,\n",
              " 'Pushing': 7,\n",
              " 'Sidekicking': 8,\n",
              " 'Slapping': 9,\n",
              " 'Bowing': 10,\n",
              " 'Clapping': 11,\n",
              " 'Handshaking': 12,\n",
              " 'Hugging': 13,\n",
              " 'Jumping': 14,\n",
              " 'Running': 15,\n",
              " 'Seating': 16,\n",
              " 'Standing': 17,\n",
              " 'Walking': 18,\n",
              " 'Waving': 19}"
            ]
          },
          "metadata": {},
          "output_type": "display_data"
        },
        {
          "data": {
            "text/plain": [
              "Action\n",
              "Headering       10000\n",
              "Hamering        10000\n",
              "Clapping        10000\n",
              "Kneeing         10000\n",
              "Seating         10000\n",
              "Walking         10000\n",
              "Waving          10000\n",
              "Jumping         10000\n",
              "Running          9964\n",
              "Bowing           9830\n",
              "Sidekicking      9829\n",
              "Frontkicking     9811\n",
              "Slapping         9788\n",
              "Elbowing         9772\n",
              "Hugging          9756\n",
              "Standing         9725\n",
              "Pushing          9676\n",
              "Pulling          9659\n",
              "Punching         9637\n",
              "Handshaking      9611\n",
              "Name: count, dtype: int64"
            ]
          },
          "metadata": {},
          "output_type": "display_data"
        }
      ],
      "source": [
        "display(np.unique(y)) # Displaying the unique labels\n",
        "display(actions) # Displaying the actions dictionary\n",
        "display(y.value_counts()) # Value counts of each action\n"
      ]
    },
    {
      "cell_type": "markdown",
      "metadata": {},
      "source": [
        "## Model Exploration"
      ]
    },
    {
      "cell_type": "markdown",
      "metadata": {},
      "source": [
        "### Random Forest Model\n",
        "Random Forest is chosen for its robustness and ability to handle non-linear data. It's particularly good for classification tasks and can manage the high dimensionality of EMG data without extensive preprocessing."
      ]
    },
    {
      "cell_type": "code",
      "execution_count": 14,
      "metadata": {},
      "outputs": [
        {
          "ename": "NameError",
          "evalue": "name 'X_train_scaled' is not defined",
          "output_type": "error",
          "traceback": [
            "\u001b[1;31m---------------------------------------------------------------------------\u001b[0m",
            "\u001b[1;31mNameError\u001b[0m                                 Traceback (most recent call last)",
            "Cell \u001b[1;32mIn[14], line 4\u001b[0m\n\u001b[0;32m      1\u001b[0m \u001b[38;5;28;01mfrom\u001b[39;00m \u001b[38;5;21;01msklearn\u001b[39;00m\u001b[38;5;21;01m.\u001b[39;00m\u001b[38;5;21;01mensemble\u001b[39;00m \u001b[38;5;28;01mimport\u001b[39;00m RandomForestClassifier\n\u001b[0;32m      3\u001b[0m rf_model \u001b[38;5;241m=\u001b[39m RandomForestClassifier(random_state\u001b[38;5;241m=\u001b[39m\u001b[38;5;241m42\u001b[39m)\n\u001b[1;32m----> 4\u001b[0m rf_model\u001b[38;5;241m.\u001b[39mfit(\u001b[43mX_train_scaled\u001b[49m, y_train)\n\u001b[0;32m      5\u001b[0m rf_predictions \u001b[38;5;241m=\u001b[39m rf_model\u001b[38;5;241m.\u001b[39mpredict(X_test_scaled)\n\u001b[0;32m      7\u001b[0m \u001b[38;5;66;03m# Evaluate Random Forest performance\u001b[39;00m\n\u001b[0;32m      8\u001b[0m \u001b[38;5;66;03m# metrics like accuracy, precision, recall, F1 score\u001b[39;00m\n",
            "\u001b[1;31mNameError\u001b[0m: name 'X_train_scaled' is not defined"
          ]
        }
      ],
      "source": [
        "from sklearn.ensemble import RandomForestClassifier\n",
        "\n",
        "rf_model = RandomForestClassifier(random_state=42)\n",
        "rf_model.fit(X_train_scaled, y_train)\n",
        "rf_predictions = rf_model.predict(X_test_scaled)\n",
        "\n",
        "# Evaluate Random Forest performance\n",
        "# metrics like accuracy, precision, recall, F1 score"
      ]
    },
    {
      "cell_type": "markdown",
      "metadata": {},
      "source": [
        "### Support Vector Machine (SVM) Model\n",
        "SVM is selected for its effectiveness in high-dimensional spaces and its ability to use the kernel trick for non-linear classification."
      ]
    },
    {
      "cell_type": "code",
      "execution_count": null,
      "metadata": {},
      "outputs": [],
      "source": [
        "from sklearn.svm import SVC\n",
        "\n",
        "svm_model = SVC(kernel='linear')\n",
        "svm_model.fit(X_train_scaled, y_train)\n",
        "svm_predictions = svm_model.predict(X_test_scaled)\n",
        "\n",
        "# Evaluate SVM performance\n",
        "# metrics like accuracy, precision, recall, F1 score"
      ]
    },
    {
      "cell_type": "markdown",
      "metadata": {},
      "source": [
        "## Conclusion\n",
        "This notebook presented an analysis of EMG data using Random Forest and SVM models. The choice of models was based on their suitability for the dataset's characteristics. Further analysis could explore more complex models or deep learning approaches for potentially improved accuracy.\n",
        "\n",
        "Future work may include the application of Convolutional Neural Networks (CNNs) to leverage spatial correlations in the data for potentially superior classification performance."
      ]
    }
  ],
  "metadata": {
    "kernelspec": {
      "display_name": "Python 3",
      "language": "python",
      "name": "python3"
    },
    "language_info": {
      "codemirror_mode": {
        "name": "ipython",
        "version": 3
      },
      "file_extension": ".py",
      "mimetype": "text/x-python",
      "name": "python",
      "nbconvert_exporter": "python",
      "pygments_lexer": "ipython3",
      "version": "3.10.0"
    }
  },
  "nbformat": 4,
  "nbformat_minor": 2
}
